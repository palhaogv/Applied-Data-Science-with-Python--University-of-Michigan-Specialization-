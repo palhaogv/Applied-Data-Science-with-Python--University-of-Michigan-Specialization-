{
 "cells": [
  {
   "cell_type": "markdown",
   "metadata": {},
   "source": [
    "# Assignment 1 - Creating and Manipulating Graphs\n",
    "\n",
    "Eight employees at a small company were asked to choose 3 movies that they would most enjoy watching for the upcoming company movie night. These choices are stored in the file `Employee_Movie_Choices.txt`.\n",
    "\n",
    "A second file, `Employee_Relationships.txt`, has data on the relationships between different coworkers. \n",
    "\n",
    "The relationship score has value of `-100` (Enemies) to `+100` (Best Friends). A value of zero means the two employees haven't interacted or are indifferent.\n",
    "\n",
    "Both files are tab delimited."
   ]
  },
  {
   "cell_type": "code",
   "execution_count": 151,
   "metadata": {
    "collapsed": true
   },
   "outputs": [],
   "source": [
    "import networkx as nx\n",
    "import pandas as pd\n",
    "import numpy as np\n",
    "from networkx.algorithms import bipartite\n",
    "\n",
    "\n",
    "# This is the set of employees\n",
    "employees = set(['Pablo',\n",
    "                 'Lee',\n",
    "                 'Georgia',\n",
    "                 'Vincent',\n",
    "                 'Andy',\n",
    "                 'Frida',\n",
    "                 'Joan',\n",
    "                 'Claude'])\n",
    "\n",
    "# This is the set of movies\n",
    "movies = set(['The Shawshank Redemption',\n",
    "              'Forrest Gump',\n",
    "              'The Matrix',\n",
    "              'Anaconda',\n",
    "              'The Social Network',\n",
    "              'The Godfather',\n",
    "              'Monty Python and the Holy Grail',\n",
    "              'Snakes on a Plane',\n",
    "              'Kung Fu Panda',\n",
    "              'The Dark Knight',\n",
    "              'Mean Girls'])\n",
    "\n",
    "\n",
    "# you can use the following function to plot graphs\n",
    "# make sure to comment it out before submitting to the autograder\n",
    "def plot_graph(G, weight_name=None):\n",
    "    '''\n",
    "    G: a networkx G\n",
    "    weight_name: name of the attribute for plotting edge weights (if G is weighted)\n",
    "    '''\n",
    "    %matplotlib notebook\n",
    "    import matplotlib.pyplot as plt\n",
    "    \n",
    "    plt.figure()\n",
    "    pos = nx.spring_layout(G)\n",
    "    edges = G.edges()\n",
    "    weights = None\n",
    "    \n",
    "    if weight_name:\n",
    "        weights = [int(G[u][v][weight_name]) for u,v in edges]\n",
    "        labels = nx.get_edge_attributes(G,weight_name)\n",
    "        nx.draw_networkx_edge_labels(G,pos,edge_labels=labels)\n",
    "        nx.draw_networkx(G, pos, edges=edges, width=weights);\n",
    "    else:\n",
    "        nx.draw_networkx(G, pos, edges=edges);"
   ]
  },
  {
   "cell_type": "markdown",
   "metadata": {},
   "source": [
    "### Question 1\n",
    "\n",
    "Using NetworkX, load in the bipartite graph from `Employee_Movie_Choices.txt` and return that graph.\n",
    "\n",
    "*This function should return a networkx graph with 19 nodes and 24 edges*"
   ]
  },
  {
   "cell_type": "code",
   "execution_count": 152,
   "metadata": {},
   "outputs": [
    {
     "data": {
      "text/plain": [
       "<networkx.classes.graph.Graph at 0x7f2362dc2b00>"
      ]
     },
     "execution_count": 152,
     "metadata": {},
     "output_type": "execute_result"
    }
   ],
   "source": [
    "def answer_one():\n",
    "    df = pd.read_csv('Employee_Movie_Choices.txt', sep='\\t')\n",
    "    G = nx.Graph()\n",
    "    G.add_nodes_from(employees, bipartite=0)\n",
    "    G.add_nodes_from(movies, bipartite=1)\n",
    "    total_edges = []\n",
    "    ind_edges = []\n",
    "    for i in range(0, len(df)):\n",
    "        ind_edges.append(df.iloc[i]['#Employee'])\n",
    "        ind_edges.append(df.iloc[i]['Movie'])\n",
    "        total_edges.append(tuple(ind_edges[:]))\n",
    "        ind_edges.clear()\n",
    "    G.add_edges_from(total_edges)\n",
    "    \n",
    "    \n",
    "    return G\n",
    "\n",
    "answer_one()"
   ]
  },
  {
   "cell_type": "markdown",
   "metadata": {},
   "source": [
    "### Question 2\n",
    "\n",
    "Using the graph from the previous question, add nodes attributes named `'type'` where movies have the value `'movie'` and employees have the value `'employee'` and return that graph.\n",
    "\n",
    "*This function should return a networkx graph with node attributes `{'type': 'movie'}` or `{'type': 'employee'}`*"
   ]
  },
  {
   "cell_type": "code",
   "execution_count": 153,
   "metadata": {},
   "outputs": [
    {
     "data": {
      "text/plain": [
       "<networkx.classes.graph.Graph at 0x7f2362dfe390>"
      ]
     },
     "execution_count": 153,
     "metadata": {},
     "output_type": "execute_result"
    }
   ],
   "source": [
    "def answer_two():\n",
    "    \n",
    "    df = pd.read_csv('Employee_Movie_Choices.txt', sep='\\t')\n",
    "    G = nx.Graph()\n",
    "    \n",
    "    G.add_nodes_from(employees, bipartite=1)\n",
    "    G.add_nodes_from(movies, bipartite=1)\n",
    "    total_edges = []\n",
    "    ind_edges = []\n",
    "    for i in range(0, len(df)):\n",
    "        ind_edges.append(df.iloc[i]['#Employee'])\n",
    "        ind_edges.append(df.iloc[i]['Movie'])\n",
    "        total_edges.append(tuple(ind_edges[:]))\n",
    "        ind_edges.clear()\n",
    "    G.add_edges_from(total_edges)\n",
    "    for node in G.nodes():\n",
    "        if node in employees:\n",
    "            G.add_node(node, role='employee')\n",
    "        if node in movies:\n",
    "            G.add_node(node, role='movie')\n",
    "            \n",
    "    return G\n",
    "    \n",
    "answer_two()"
   ]
  },
  {
   "cell_type": "markdown",
   "metadata": {
    "collapsed": true
   },
   "source": [
    "### Question 3\n",
    "\n",
    "Find a weighted projection of the graph from `answer_two` which tells us how many movies different pairs of employees have in common.\n",
    "\n",
    "*This function should return a weighted projected graph.*"
   ]
  },
  {
   "cell_type": "code",
   "execution_count": 154,
   "metadata": {},
   "outputs": [
    {
     "data": {
      "text/plain": [
       "<networkx.classes.graph.Graph at 0x7f2362f61cf8>"
      ]
     },
     "execution_count": 154,
     "metadata": {},
     "output_type": "execute_result"
    }
   ],
   "source": [
    "def answer_three():\n",
    "    \n",
    "    return bipartite.weighted_projected_graph(answer_two(), employees)\n",
    "\n",
    "answer_three()"
   ]
  },
  {
   "cell_type": "markdown",
   "metadata": {
    "collapsed": true
   },
   "source": [
    "### Question 4\n",
    "\n",
    "Suppose you'd like to find out if people that have a high relationship score also like the same types of movies.\n",
    "\n",
    "Find the Pearson correlation ( using `DataFrame.corr()` ) between employee relationship scores and the number of movies they have in common. If two employees have no movies in common it should be treated as a 0, not a missing value, and should be included in the correlation calculation.\n",
    "\n",
    "*This function should return a float.*"
   ]
  },
  {
   "cell_type": "code",
   "execution_count": 155,
   "metadata": {},
   "outputs": [
    {
     "data": {
      "text/plain": [
       "0.78839622217334737"
      ]
     },
     "execution_count": 155,
     "metadata": {},
     "output_type": "execute_result"
    }
   ],
   "source": [
    "def answer_four():\n",
    "        \n",
    "    G = answer_three() \n",
    "    weightdf = pd.DataFrame(G.edges(data=True), columns =['Name1', 'Name2', 'Weight']) \n",
    "    w2 = []\n",
    "    for i in range (0, 11):\n",
    "        w2.append(str(weightdf.iloc[i]['Weight'])[11:12])\n",
    "    weightdf['Weight'] = w2\n",
    "    weightdf_copy = weightdf.copy()\n",
    "    weightdf_copy.columns = ['Name2', 'Name1', 'Weight']\n",
    "    weightdf_final = pd.concat([weightdf, weightdf_copy]).reset_index(drop=True)\n",
    "    \n",
    "    relationdf = pd.read_csv('Employee_Relationships.txt', sep='\\t', header=None)\n",
    "    relationdf.columns = ['Name1', 'Name2', 'Relation']\n",
    "    \n",
    "    weight_relation_df = pd.merge(relationdf, weightdf_final, on = ['Name1', 'Name2'], how = 'left').fillna(0)\n",
    "    weight_relation_df['Weight'] = pd.to_numeric(weight_relation_df['Weight'])\n",
    "    \n",
    "    return weight_relation_df['Weight'].corr(weight_relation_df['Relation'])\n",
    "\n",
    "answer_four()"
   ]
  },
  {
   "cell_type": "code",
   "execution_count": null,
   "metadata": {
    "collapsed": true
   },
   "outputs": [],
   "source": []
  }
 ],
 "metadata": {
  "coursera": {
   "course_slug": "python-social-network-analysis",
   "graded_item_id": "YNa9b",
   "launcher_item_id": "hvNc1",
   "part_id": "VbyiB"
  },
  "kernelspec": {
   "display_name": "Python 3",
   "language": "python",
   "name": "python3"
  },
  "language_info": {
   "codemirror_mode": {
    "name": "ipython",
    "version": 3
   },
   "file_extension": ".py",
   "mimetype": "text/x-python",
   "name": "python",
   "nbconvert_exporter": "python",
   "pygments_lexer": "ipython3",
   "version": "3.6.2"
  }
 },
 "nbformat": 4,
 "nbformat_minor": 2
}